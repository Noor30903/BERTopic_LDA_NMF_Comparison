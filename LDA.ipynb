{
 "cells": [
  {
   "cell_type": "markdown",
   "metadata": {
    "id": "iGNR29VdlQyl"
   },
   "source": [
    "## introduction ##\n",
    "\n",
    "Topic modeling is a natural language processing technique used to discover hidden structures or themes in a collection of text data. This project focuses on implementing Latent Dirichlet Allocation (LDA), one of the most popular methods for topic modeling.\n",
    "\n",
    "LDA works by grouping words that frequently appear together into topics, providing an overview of the key themes present in the dataset. It assigns each document a probability distribution over these topics, enabling both the identification of dominant topics in a document and the exploration of thematic patterns across the dataset.\n",
    "\n",
    "In this implementation, we preprocess text data to create a structured input for LDA, train the model to identify topics, and use the results for analysis. The project also evaluates the coherence of topics to ensure meaningful outputs and applies these topics to predict categories or classify data using machine learning models like logistic regression."
   ]
  },
  {
   "cell_type": "markdown",
   "metadata": {},
   "source": [
    "- **Noor Alawlaqi** - S21107270\n",
    "- **Maha Almashharawi** - S20106480\n",
    "- **Mashael Alsalamah** - S20206926"
   ]
  },
  {
   "cell_type": "markdown",
   "metadata": {
    "id": "ADrPj7EHoKVQ"
   },
   "source": [
    "## Data Loading and Exploration ##\n",
    "1-we Loads required libraries for data manipulation, topic modeling, and classification.\n",
    "\n",
    "2-We loaded the training and testing datasets.\n",
    "\n",
    "3-We checked for missing values and cleaned the data"
   ]
  },
  {
   "cell_type": "code",
   "execution_count": null,
   "metadata": {
    "colab": {
     "base_uri": "https://localhost:8080/"
    },
    "id": "zm_GGCNEySX8",
    "outputId": "7c09c31b-bfb8-4d11-d637-85538d39aa14"
   },
   "outputs": [
    {
     "name": "stdout",
     "output_type": "stream",
     "text": [
      "Mounted at /content/drive\n"
     ]
    }
   ],
   "source": [
    "from google.colab import drive\n",
    "drive.mount('/content/drive')"
   ]
  },
  {
   "cell_type": "code",
   "execution_count": null,
   "metadata": {
    "id": "EYYfz7PwgKj_"
   },
   "outputs": [],
   "source": [
    "import pandas as pd\n",
    "from gensim import corpora, models\n",
    "from gensim.models import CoherenceModel\n",
    "from sklearn.metrics import accuracy_score\n",
    "from sklearn.preprocessing import LabelEncoder\n",
    "from sklearn.linear_model import LogisticRegression\n"
   ]
  },
  {
   "cell_type": "code",
   "execution_count": null,
   "metadata": {
    "id": "RZe1OB9NgIg2"
   },
   "outputs": [],
   "source": [
    "X_train = pd.read_csv('/content/drive/MyDrive/Colab Notebooks/dataset/train/X_train.csv')\n",
    "X_test = pd.read_csv('/content/drive/MyDrive/Colab Notebooks/dataset/test/X_test.csv')"
   ]
  },
  {
   "cell_type": "code",
   "execution_count": null,
   "metadata": {
    "colab": {
     "base_uri": "https://localhost:8080/",
     "height": 147
    },
    "id": "PBOFZBInR6oq",
    "outputId": "84346ddf-31c0-43cf-bcb8-531cca375203"
   },
   "outputs": [
    {
     "data": {
      "text/html": [
       "<div>\n",
       "<style scoped>\n",
       "    .dataframe tbody tr th:only-of-type {\n",
       "        vertical-align: middle;\n",
       "    }\n",
       "\n",
       "    .dataframe tbody tr th {\n",
       "        vertical-align: top;\n",
       "    }\n",
       "\n",
       "    .dataframe thead th {\n",
       "        text-align: right;\n",
       "    }\n",
       "</style>\n",
       "<table border=\"1\" class=\"dataframe\">\n",
       "  <thead>\n",
       "    <tr style=\"text-align: right;\">\n",
       "      <th></th>\n",
       "      <th>0</th>\n",
       "    </tr>\n",
       "  </thead>\n",
       "  <tbody>\n",
       "    <tr>\n",
       "      <th>main_category</th>\n",
       "      <td>0</td>\n",
       "    </tr>\n",
       "    <tr>\n",
       "      <th>description</th>\n",
       "      <td>10</td>\n",
       "    </tr>\n",
       "  </tbody>\n",
       "</table>\n",
       "</div><br><label><b>dtype:</b> int64</label>"
      ],
      "text/plain": [
       "main_category     0\n",
       "description      10\n",
       "dtype: int64"
      ]
     },
     "execution_count": 6,
     "metadata": {},
     "output_type": "execute_result"
    }
   ],
   "source": [
    "\n",
    "X_train.isnull().sum()"
   ]
  },
  {
   "cell_type": "code",
   "execution_count": null,
   "metadata": {
    "colab": {
     "base_uri": "https://localhost:8080/",
     "height": 147
    },
    "id": "LaCs8OzVR_NS",
    "outputId": "cb596ba6-f43d-4ddb-a75f-0e72dbb77b54"
   },
   "outputs": [
    {
     "data": {
      "text/html": [
       "<div>\n",
       "<style scoped>\n",
       "    .dataframe tbody tr th:only-of-type {\n",
       "        vertical-align: middle;\n",
       "    }\n",
       "\n",
       "    .dataframe tbody tr th {\n",
       "        vertical-align: top;\n",
       "    }\n",
       "\n",
       "    .dataframe thead th {\n",
       "        text-align: right;\n",
       "    }\n",
       "</style>\n",
       "<table border=\"1\" class=\"dataframe\">\n",
       "  <thead>\n",
       "    <tr style=\"text-align: right;\">\n",
       "      <th></th>\n",
       "      <th>0</th>\n",
       "    </tr>\n",
       "  </thead>\n",
       "  <tbody>\n",
       "    <tr>\n",
       "      <th>main_category</th>\n",
       "      <td>0</td>\n",
       "    </tr>\n",
       "    <tr>\n",
       "      <th>description</th>\n",
       "      <td>3</td>\n",
       "    </tr>\n",
       "  </tbody>\n",
       "</table>\n",
       "</div><br><label><b>dtype:</b> int64</label>"
      ],
      "text/plain": [
       "main_category    0\n",
       "description      3\n",
       "dtype: int64"
      ]
     },
     "execution_count": 7,
     "metadata": {},
     "output_type": "execute_result"
    }
   ],
   "source": [
    "X_test.isnull().sum()"
   ]
  },
  {
   "cell_type": "code",
   "execution_count": null,
   "metadata": {
    "id": "LdSbFiQPR8uj"
   },
   "outputs": [],
   "source": [
    "X_train = X_train.dropna()\n",
    "X_test = X_test.dropna()"
   ]
  },
  {
   "cell_type": "markdown",
   "metadata": {
    "id": "XSEXWXjupn5f"
   },
   "source": [
    "## Data Preprocessing and Preparing Data for LDA##\n",
    "\n",
    "1-We reset the indices and separated text data and labels.\n",
    "\n",
    "2-We tokenized the text data and encoded the labels.\n",
    "\n",
    "3-We created a dictionary and corpus from the tokenized training data to use as input for the LDA model."
   ]
  },
  {
   "cell_type": "code",
   "execution_count": null,
   "metadata": {
    "id": "u-h8BVVpFrOJ"
   },
   "outputs": [],
   "source": [
    "X_train = X_train.reset_index(drop=True)"
   ]
  },
  {
   "cell_type": "code",
   "execution_count": null,
   "metadata": {
    "id": "jn_QbZi8Fsz3"
   },
   "outputs": [],
   "source": [
    "X_test = X_test.reset_index(drop=True)"
   ]
  },
  {
   "cell_type": "code",
   "execution_count": null,
   "metadata": {
    "id": "xgos8p630iem"
   },
   "outputs": [],
   "source": [
    "y_train = X_train['main_category'].tolist()\n",
    "X_train = X_train.drop('main_category', axis=1)\n",
    "\n",
    "X_train = X_train['description'].tolist()\n",
    "\n",
    "\n",
    "y_test = X_test['main_category'].tolist()\n",
    "X_test = X_test.drop('main_category', axis=1)\n",
    "\n",
    "X_test= X_test['description'].tolist()\n"
   ]
  },
  {
   "cell_type": "code",
   "execution_count": null,
   "metadata": {
    "id": "0m4FblRO0gpk"
   },
   "outputs": [],
   "source": [
    "# Encode the labels\n",
    "label_encoder = LabelEncoder()\n",
    "y_train_encoded = label_encoder.fit_transform(y_train)\n",
    "y_test_encoded = label_encoder.transform(y_test)\n",
    "\n",
    "# Convert text data to tokenized lists\n",
    "X_train_tokens = [str(doc).split() for doc in X_train]\n",
    "\n",
    "X_test_tokens = [doc.split() for doc in X_test]\n",
    "\n",
    "# Create dictionary and corpus for training data\n",
    "id2word = corpora.Dictionary(X_train_tokens)\n",
    "corpus = [id2word.doc2bow(text) for text in X_train_tokens if text]\n"
   ]
  },
  {
   "cell_type": "markdown",
   "metadata": {
    "id": "t7FijFxGq5a8"
   },
   "source": [
    "## LDA Model Training ##\n",
    "\n",
    "1- We trained the LDA model to identify topics in the data.\n",
    "\n",
    "2- We extracted and displayed the generated topics."
   ]
  },
  {
   "cell_type": "code",
   "execution_count": null,
   "metadata": {
    "colab": {
     "base_uri": "https://localhost:8080/"
    },
    "id": "qmGe62MCgBCq",
    "outputId": "add7dfe8-1ef6-42cc-a0d8-ecb1c4d944dd"
   },
   "outputs": [
    {
     "name": "stdout",
     "output_type": "stream",
     "text": [
      "LDA Topics:\n",
      "(0, '0.014*\"hair\" + 0.007*\"skin\" + 0.006*\"nail\" + 0.005*\"material\" + 0.005*\"easy\" + 0.005*\"plant\" + 0.004*\"garden\" + 0.004*\"please\" + 0.004*\"brush\" + 0.003*\"feature\"')\n",
      "(1, '0.009*\"flavor\" + 0.008*\"oil\" + 0.007*\"ingredient\" + 0.006*\"tea\" + 0.005*\"organic\" + 0.005*\"food\" + 0.005*\"taste\" + 0.005*\"chocolate\" + 0.005*\"oz\" + 0.005*\"delicious\"')\n",
      "(2, '0.005*\"could\" + 0.005*\"said\" + 0.004*\"back\" + 0.004*\"know\" + 0.004*\"de\" + 0.004*\"get\" + 0.004*\"right\" + 0.004*\"even\" + 0.004*\"day\" + 0.003*\"way\"')\n",
      "(3, '0.008*\"power\" + 0.007*\"usb\" + 0.007*\"camera\" + 0.006*\"battery\" + 0.006*\"cable\" + 0.005*\"compatible\" + 0.005*\"case\" + 0.005*\"device\" + 0.005*\"video\" + 0.005*\"feature\"')\n",
      "(4, '0.015*\"book\" + 0.013*\"author\" + 0.006*\"life\" + 0.006*\"review\" + 0.004*\"university\" + 0.004*\"story\" + 0.004*\"world\" + 0.004*\"also\" + 0.004*\"read\" + 0.003*\"many\"')\n"
     ]
    }
   ],
   "source": [
    "num_topics = 5\n",
    "lda_model = models.LdaModel(corpus=corpus,\n",
    "                             id2word=id2word,\n",
    "                             num_topics=num_topics,\n",
    "                             random_state=100,\n",
    "                             update_every=1,\n",
    "                             passes=20,\n",
    "                             alpha='auto',\n",
    "                             per_word_topics=True)\n",
    "\n",
    "# Print topics\n",
    "topics = lda_model.print_topics(num_words=10)\n",
    "print(\"LDA Topics:\")\n",
    "for topic in topics:\n",
    "    print(topic)\n"
   ]
  },
  {
   "cell_type": "markdown",
   "metadata": {
    "id": "QiFoR9aqrUVz"
   },
   "source": [
    "##Topic Feature Extraction\n",
    "\n",
    "1-We transformed the text data into topic distributions for further analysis.\n",
    "\n",
    "2-We converted the topic distributions into feature vectors.\n"
   ]
  },
  {
   "cell_type": "code",
   "execution_count": null,
   "metadata": {
    "id": "7DdQX_vkfif1"
   },
   "outputs": [],
   "source": [
    "# Transform test data into topic distributions\n",
    "test_corpus = [id2word.doc2bow(text) for text in X_test_tokens]\n",
    "X_test_topics = [lda_model.get_document_topics(doc, minimum_probability=0) for doc in test_corpus]\n",
    "\n",
    "def topic_distribution_to_features(doc_topics, num_topics):\n",
    "    \"\"\"Convert topic distributions into a fixed-length feature vector.\"\"\"\n",
    "    features = [0] * num_topics\n",
    "    for topic_id, prob in doc_topics:\n",
    "        features[topic_id] = prob\n",
    "    return features\n",
    "\n",
    "X_test_features = [topic_distribution_to_features(doc, num_topics) for doc in X_test_topics]"
   ]
  },
  {
   "cell_type": "markdown",
   "metadata": {
    "id": "fZeFFf89r0Gl"
   },
   "source": [
    "##Training the Classifier\n",
    "\n",
    "1- We used the topic feature vectors to train a logistic regression model for classification."
   ]
  },
  {
   "cell_type": "code",
   "execution_count": null,
   "metadata": {
    "id": "f1KNf0BBf7rz"
   },
   "outputs": [],
   "source": [
    "# Train classifier (Logistic Regression)\n",
    "X_train_topics = [lda_model.get_document_topics(doc, minimum_probability=0) for doc in corpus]\n",
    "X_train_features = [topic_distribution_to_features(doc, num_topics) for doc in X_train_topics]\n"
   ]
  },
  {
   "cell_type": "code",
   "execution_count": null,
   "metadata": {
    "colab": {
     "base_uri": "https://localhost:8080/",
     "height": 80
    },
    "id": "E-s2e6Ev2wAs",
    "outputId": "969eb16b-d1b8-4d38-b52e-ab5cac0c40dd"
   },
   "outputs": [
    {
     "data": {
      "text/html": [
       "<style>#sk-container-id-1 {\n",
       "  /* Definition of color scheme common for light and dark mode */\n",
       "  --sklearn-color-text: black;\n",
       "  --sklearn-color-line: gray;\n",
       "  /* Definition of color scheme for unfitted estimators */\n",
       "  --sklearn-color-unfitted-level-0: #fff5e6;\n",
       "  --sklearn-color-unfitted-level-1: #f6e4d2;\n",
       "  --sklearn-color-unfitted-level-2: #ffe0b3;\n",
       "  --sklearn-color-unfitted-level-3: chocolate;\n",
       "  /* Definition of color scheme for fitted estimators */\n",
       "  --sklearn-color-fitted-level-0: #f0f8ff;\n",
       "  --sklearn-color-fitted-level-1: #d4ebff;\n",
       "  --sklearn-color-fitted-level-2: #b3dbfd;\n",
       "  --sklearn-color-fitted-level-3: cornflowerblue;\n",
       "\n",
       "  /* Specific color for light theme */\n",
       "  --sklearn-color-text-on-default-background: var(--sg-text-color, var(--theme-code-foreground, var(--jp-content-font-color1, black)));\n",
       "  --sklearn-color-background: var(--sg-background-color, var(--theme-background, var(--jp-layout-color0, white)));\n",
       "  --sklearn-color-border-box: var(--sg-text-color, var(--theme-code-foreground, var(--jp-content-font-color1, black)));\n",
       "  --sklearn-color-icon: #696969;\n",
       "\n",
       "  @media (prefers-color-scheme: dark) {\n",
       "    /* Redefinition of color scheme for dark theme */\n",
       "    --sklearn-color-text-on-default-background: var(--sg-text-color, var(--theme-code-foreground, var(--jp-content-font-color1, white)));\n",
       "    --sklearn-color-background: var(--sg-background-color, var(--theme-background, var(--jp-layout-color0, #111)));\n",
       "    --sklearn-color-border-box: var(--sg-text-color, var(--theme-code-foreground, var(--jp-content-font-color1, white)));\n",
       "    --sklearn-color-icon: #878787;\n",
       "  }\n",
       "}\n",
       "\n",
       "#sk-container-id-1 {\n",
       "  color: var(--sklearn-color-text);\n",
       "}\n",
       "\n",
       "#sk-container-id-1 pre {\n",
       "  padding: 0;\n",
       "}\n",
       "\n",
       "#sk-container-id-1 input.sk-hidden--visually {\n",
       "  border: 0;\n",
       "  clip: rect(1px 1px 1px 1px);\n",
       "  clip: rect(1px, 1px, 1px, 1px);\n",
       "  height: 1px;\n",
       "  margin: -1px;\n",
       "  overflow: hidden;\n",
       "  padding: 0;\n",
       "  position: absolute;\n",
       "  width: 1px;\n",
       "}\n",
       "\n",
       "#sk-container-id-1 div.sk-dashed-wrapped {\n",
       "  border: 1px dashed var(--sklearn-color-line);\n",
       "  margin: 0 0.4em 0.5em 0.4em;\n",
       "  box-sizing: border-box;\n",
       "  padding-bottom: 0.4em;\n",
       "  background-color: var(--sklearn-color-background);\n",
       "}\n",
       "\n",
       "#sk-container-id-1 div.sk-container {\n",
       "  /* jupyter's `normalize.less` sets `[hidden] { display: none; }`\n",
       "     but bootstrap.min.css set `[hidden] { display: none !important; }`\n",
       "     so we also need the `!important` here to be able to override the\n",
       "     default hidden behavior on the sphinx rendered scikit-learn.org.\n",
       "     See: https://github.com/scikit-learn/scikit-learn/issues/21755 */\n",
       "  display: inline-block !important;\n",
       "  position: relative;\n",
       "}\n",
       "\n",
       "#sk-container-id-1 div.sk-text-repr-fallback {\n",
       "  display: none;\n",
       "}\n",
       "\n",
       "div.sk-parallel-item,\n",
       "div.sk-serial,\n",
       "div.sk-item {\n",
       "  /* draw centered vertical line to link estimators */\n",
       "  background-image: linear-gradient(var(--sklearn-color-text-on-default-background), var(--sklearn-color-text-on-default-background));\n",
       "  background-size: 2px 100%;\n",
       "  background-repeat: no-repeat;\n",
       "  background-position: center center;\n",
       "}\n",
       "\n",
       "/* Parallel-specific style estimator block */\n",
       "\n",
       "#sk-container-id-1 div.sk-parallel-item::after {\n",
       "  content: \"\";\n",
       "  width: 100%;\n",
       "  border-bottom: 2px solid var(--sklearn-color-text-on-default-background);\n",
       "  flex-grow: 1;\n",
       "}\n",
       "\n",
       "#sk-container-id-1 div.sk-parallel {\n",
       "  display: flex;\n",
       "  align-items: stretch;\n",
       "  justify-content: center;\n",
       "  background-color: var(--sklearn-color-background);\n",
       "  position: relative;\n",
       "}\n",
       "\n",
       "#sk-container-id-1 div.sk-parallel-item {\n",
       "  display: flex;\n",
       "  flex-direction: column;\n",
       "}\n",
       "\n",
       "#sk-container-id-1 div.sk-parallel-item:first-child::after {\n",
       "  align-self: flex-end;\n",
       "  width: 50%;\n",
       "}\n",
       "\n",
       "#sk-container-id-1 div.sk-parallel-item:last-child::after {\n",
       "  align-self: flex-start;\n",
       "  width: 50%;\n",
       "}\n",
       "\n",
       "#sk-container-id-1 div.sk-parallel-item:only-child::after {\n",
       "  width: 0;\n",
       "}\n",
       "\n",
       "/* Serial-specific style estimator block */\n",
       "\n",
       "#sk-container-id-1 div.sk-serial {\n",
       "  display: flex;\n",
       "  flex-direction: column;\n",
       "  align-items: center;\n",
       "  background-color: var(--sklearn-color-background);\n",
       "  padding-right: 1em;\n",
       "  padding-left: 1em;\n",
       "}\n",
       "\n",
       "\n",
       "/* Toggleable style: style used for estimator/Pipeline/ColumnTransformer box that is\n",
       "clickable and can be expanded/collapsed.\n",
       "- Pipeline and ColumnTransformer use this feature and define the default style\n",
       "- Estimators will overwrite some part of the style using the `sk-estimator` class\n",
       "*/\n",
       "\n",
       "/* Pipeline and ColumnTransformer style (default) */\n",
       "\n",
       "#sk-container-id-1 div.sk-toggleable {\n",
       "  /* Default theme specific background. It is overwritten whether we have a\n",
       "  specific estimator or a Pipeline/ColumnTransformer */\n",
       "  background-color: var(--sklearn-color-background);\n",
       "}\n",
       "\n",
       "/* Toggleable label */\n",
       "#sk-container-id-1 label.sk-toggleable__label {\n",
       "  cursor: pointer;\n",
       "  display: block;\n",
       "  width: 100%;\n",
       "  margin-bottom: 0;\n",
       "  padding: 0.5em;\n",
       "  box-sizing: border-box;\n",
       "  text-align: center;\n",
       "}\n",
       "\n",
       "#sk-container-id-1 label.sk-toggleable__label-arrow:before {\n",
       "  /* Arrow on the left of the label */\n",
       "  content: \"▸\";\n",
       "  float: left;\n",
       "  margin-right: 0.25em;\n",
       "  color: var(--sklearn-color-icon);\n",
       "}\n",
       "\n",
       "#sk-container-id-1 label.sk-toggleable__label-arrow:hover:before {\n",
       "  color: var(--sklearn-color-text);\n",
       "}\n",
       "\n",
       "/* Toggleable content - dropdown */\n",
       "\n",
       "#sk-container-id-1 div.sk-toggleable__content {\n",
       "  max-height: 0;\n",
       "  max-width: 0;\n",
       "  overflow: hidden;\n",
       "  text-align: left;\n",
       "  /* unfitted */\n",
       "  background-color: var(--sklearn-color-unfitted-level-0);\n",
       "}\n",
       "\n",
       "#sk-container-id-1 div.sk-toggleable__content.fitted {\n",
       "  /* fitted */\n",
       "  background-color: var(--sklearn-color-fitted-level-0);\n",
       "}\n",
       "\n",
       "#sk-container-id-1 div.sk-toggleable__content pre {\n",
       "  margin: 0.2em;\n",
       "  border-radius: 0.25em;\n",
       "  color: var(--sklearn-color-text);\n",
       "  /* unfitted */\n",
       "  background-color: var(--sklearn-color-unfitted-level-0);\n",
       "}\n",
       "\n",
       "#sk-container-id-1 div.sk-toggleable__content.fitted pre {\n",
       "  /* unfitted */\n",
       "  background-color: var(--sklearn-color-fitted-level-0);\n",
       "}\n",
       "\n",
       "#sk-container-id-1 input.sk-toggleable__control:checked~div.sk-toggleable__content {\n",
       "  /* Expand drop-down */\n",
       "  max-height: 200px;\n",
       "  max-width: 100%;\n",
       "  overflow: auto;\n",
       "}\n",
       "\n",
       "#sk-container-id-1 input.sk-toggleable__control:checked~label.sk-toggleable__label-arrow:before {\n",
       "  content: \"▾\";\n",
       "}\n",
       "\n",
       "/* Pipeline/ColumnTransformer-specific style */\n",
       "\n",
       "#sk-container-id-1 div.sk-label input.sk-toggleable__control:checked~label.sk-toggleable__label {\n",
       "  color: var(--sklearn-color-text);\n",
       "  background-color: var(--sklearn-color-unfitted-level-2);\n",
       "}\n",
       "\n",
       "#sk-container-id-1 div.sk-label.fitted input.sk-toggleable__control:checked~label.sk-toggleable__label {\n",
       "  background-color: var(--sklearn-color-fitted-level-2);\n",
       "}\n",
       "\n",
       "/* Estimator-specific style */\n",
       "\n",
       "/* Colorize estimator box */\n",
       "#sk-container-id-1 div.sk-estimator input.sk-toggleable__control:checked~label.sk-toggleable__label {\n",
       "  /* unfitted */\n",
       "  background-color: var(--sklearn-color-unfitted-level-2);\n",
       "}\n",
       "\n",
       "#sk-container-id-1 div.sk-estimator.fitted input.sk-toggleable__control:checked~label.sk-toggleable__label {\n",
       "  /* fitted */\n",
       "  background-color: var(--sklearn-color-fitted-level-2);\n",
       "}\n",
       "\n",
       "#sk-container-id-1 div.sk-label label.sk-toggleable__label,\n",
       "#sk-container-id-1 div.sk-label label {\n",
       "  /* The background is the default theme color */\n",
       "  color: var(--sklearn-color-text-on-default-background);\n",
       "}\n",
       "\n",
       "/* On hover, darken the color of the background */\n",
       "#sk-container-id-1 div.sk-label:hover label.sk-toggleable__label {\n",
       "  color: var(--sklearn-color-text);\n",
       "  background-color: var(--sklearn-color-unfitted-level-2);\n",
       "}\n",
       "\n",
       "/* Label box, darken color on hover, fitted */\n",
       "#sk-container-id-1 div.sk-label.fitted:hover label.sk-toggleable__label.fitted {\n",
       "  color: var(--sklearn-color-text);\n",
       "  background-color: var(--sklearn-color-fitted-level-2);\n",
       "}\n",
       "\n",
       "/* Estimator label */\n",
       "\n",
       "#sk-container-id-1 div.sk-label label {\n",
       "  font-family: monospace;\n",
       "  font-weight: bold;\n",
       "  display: inline-block;\n",
       "  line-height: 1.2em;\n",
       "}\n",
       "\n",
       "#sk-container-id-1 div.sk-label-container {\n",
       "  text-align: center;\n",
       "}\n",
       "\n",
       "/* Estimator-specific */\n",
       "#sk-container-id-1 div.sk-estimator {\n",
       "  font-family: monospace;\n",
       "  border: 1px dotted var(--sklearn-color-border-box);\n",
       "  border-radius: 0.25em;\n",
       "  box-sizing: border-box;\n",
       "  margin-bottom: 0.5em;\n",
       "  /* unfitted */\n",
       "  background-color: var(--sklearn-color-unfitted-level-0);\n",
       "}\n",
       "\n",
       "#sk-container-id-1 div.sk-estimator.fitted {\n",
       "  /* fitted */\n",
       "  background-color: var(--sklearn-color-fitted-level-0);\n",
       "}\n",
       "\n",
       "/* on hover */\n",
       "#sk-container-id-1 div.sk-estimator:hover {\n",
       "  /* unfitted */\n",
       "  background-color: var(--sklearn-color-unfitted-level-2);\n",
       "}\n",
       "\n",
       "#sk-container-id-1 div.sk-estimator.fitted:hover {\n",
       "  /* fitted */\n",
       "  background-color: var(--sklearn-color-fitted-level-2);\n",
       "}\n",
       "\n",
       "/* Specification for estimator info (e.g. \"i\" and \"?\") */\n",
       "\n",
       "/* Common style for \"i\" and \"?\" */\n",
       "\n",
       ".sk-estimator-doc-link,\n",
       "a:link.sk-estimator-doc-link,\n",
       "a:visited.sk-estimator-doc-link {\n",
       "  float: right;\n",
       "  font-size: smaller;\n",
       "  line-height: 1em;\n",
       "  font-family: monospace;\n",
       "  background-color: var(--sklearn-color-background);\n",
       "  border-radius: 1em;\n",
       "  height: 1em;\n",
       "  width: 1em;\n",
       "  text-decoration: none !important;\n",
       "  margin-left: 1ex;\n",
       "  /* unfitted */\n",
       "  border: var(--sklearn-color-unfitted-level-1) 1pt solid;\n",
       "  color: var(--sklearn-color-unfitted-level-1);\n",
       "}\n",
       "\n",
       ".sk-estimator-doc-link.fitted,\n",
       "a:link.sk-estimator-doc-link.fitted,\n",
       "a:visited.sk-estimator-doc-link.fitted {\n",
       "  /* fitted */\n",
       "  border: var(--sklearn-color-fitted-level-1) 1pt solid;\n",
       "  color: var(--sklearn-color-fitted-level-1);\n",
       "}\n",
       "\n",
       "/* On hover */\n",
       "div.sk-estimator:hover .sk-estimator-doc-link:hover,\n",
       ".sk-estimator-doc-link:hover,\n",
       "div.sk-label-container:hover .sk-estimator-doc-link:hover,\n",
       ".sk-estimator-doc-link:hover {\n",
       "  /* unfitted */\n",
       "  background-color: var(--sklearn-color-unfitted-level-3);\n",
       "  color: var(--sklearn-color-background);\n",
       "  text-decoration: none;\n",
       "}\n",
       "\n",
       "div.sk-estimator.fitted:hover .sk-estimator-doc-link.fitted:hover,\n",
       ".sk-estimator-doc-link.fitted:hover,\n",
       "div.sk-label-container:hover .sk-estimator-doc-link.fitted:hover,\n",
       ".sk-estimator-doc-link.fitted:hover {\n",
       "  /* fitted */\n",
       "  background-color: var(--sklearn-color-fitted-level-3);\n",
       "  color: var(--sklearn-color-background);\n",
       "  text-decoration: none;\n",
       "}\n",
       "\n",
       "/* Span, style for the box shown on hovering the info icon */\n",
       ".sk-estimator-doc-link span {\n",
       "  display: none;\n",
       "  z-index: 9999;\n",
       "  position: relative;\n",
       "  font-weight: normal;\n",
       "  right: .2ex;\n",
       "  padding: .5ex;\n",
       "  margin: .5ex;\n",
       "  width: min-content;\n",
       "  min-width: 20ex;\n",
       "  max-width: 50ex;\n",
       "  color: var(--sklearn-color-text);\n",
       "  box-shadow: 2pt 2pt 4pt #999;\n",
       "  /* unfitted */\n",
       "  background: var(--sklearn-color-unfitted-level-0);\n",
       "  border: .5pt solid var(--sklearn-color-unfitted-level-3);\n",
       "}\n",
       "\n",
       ".sk-estimator-doc-link.fitted span {\n",
       "  /* fitted */\n",
       "  background: var(--sklearn-color-fitted-level-0);\n",
       "  border: var(--sklearn-color-fitted-level-3);\n",
       "}\n",
       "\n",
       ".sk-estimator-doc-link:hover span {\n",
       "  display: block;\n",
       "}\n",
       "\n",
       "/* \"?\"-specific style due to the `<a>` HTML tag */\n",
       "\n",
       "#sk-container-id-1 a.estimator_doc_link {\n",
       "  float: right;\n",
       "  font-size: 1rem;\n",
       "  line-height: 1em;\n",
       "  font-family: monospace;\n",
       "  background-color: var(--sklearn-color-background);\n",
       "  border-radius: 1rem;\n",
       "  height: 1rem;\n",
       "  width: 1rem;\n",
       "  text-decoration: none;\n",
       "  /* unfitted */\n",
       "  color: var(--sklearn-color-unfitted-level-1);\n",
       "  border: var(--sklearn-color-unfitted-level-1) 1pt solid;\n",
       "}\n",
       "\n",
       "#sk-container-id-1 a.estimator_doc_link.fitted {\n",
       "  /* fitted */\n",
       "  border: var(--sklearn-color-fitted-level-1) 1pt solid;\n",
       "  color: var(--sklearn-color-fitted-level-1);\n",
       "}\n",
       "\n",
       "/* On hover */\n",
       "#sk-container-id-1 a.estimator_doc_link:hover {\n",
       "  /* unfitted */\n",
       "  background-color: var(--sklearn-color-unfitted-level-3);\n",
       "  color: var(--sklearn-color-background);\n",
       "  text-decoration: none;\n",
       "}\n",
       "\n",
       "#sk-container-id-1 a.estimator_doc_link.fitted:hover {\n",
       "  /* fitted */\n",
       "  background-color: var(--sklearn-color-fitted-level-3);\n",
       "}\n",
       "</style><div id=\"sk-container-id-1\" class=\"sk-top-container\"><div class=\"sk-text-repr-fallback\"><pre>LogisticRegression(max_iter=1000, random_state=42)</pre><b>In a Jupyter environment, please rerun this cell to show the HTML representation or trust the notebook. <br />On GitHub, the HTML representation is unable to render, please try loading this page with nbviewer.org.</b></div><div class=\"sk-container\" hidden><div class=\"sk-item\"><div class=\"sk-estimator fitted sk-toggleable\"><input class=\"sk-toggleable__control sk-hidden--visually\" id=\"sk-estimator-id-1\" type=\"checkbox\" checked><label for=\"sk-estimator-id-1\" class=\"sk-toggleable__label fitted sk-toggleable__label-arrow fitted\">&nbsp;&nbsp;LogisticRegression<a class=\"sk-estimator-doc-link fitted\" rel=\"noreferrer\" target=\"_blank\" href=\"https://scikit-learn.org/1.5/modules/generated/sklearn.linear_model.LogisticRegression.html\">?<span>Documentation for LogisticRegression</span></a><span class=\"sk-estimator-doc-link fitted\">i<span>Fitted</span></span></label><div class=\"sk-toggleable__content fitted\"><pre>LogisticRegression(max_iter=1000, random_state=42)</pre></div> </div></div></div></div>"
      ],
      "text/plain": [
       "LogisticRegression(max_iter=1000, random_state=42)"
      ]
     },
     "execution_count": 16,
     "metadata": {},
     "output_type": "execute_result"
    }
   ],
   "source": [
    "classifier = LogisticRegression(max_iter=1000, random_state=42)\n",
    "classifier.fit(X_train_features, y_train_encoded)"
   ]
  },
  {
   "cell_type": "markdown",
   "metadata": {
    "id": "ZWPI9KLlsCIx"
   },
   "source": [
    "Model Evaluation\n",
    "\n",
    "1- We predicted categories on the test dataset.\n",
    "\n",
    "2-We calculated accuracy, coherence score, and generated a classification report to evaluate the model's performance."
   ]
  },
  {
   "cell_type": "code",
   "execution_count": null,
   "metadata": {
    "id": "8a-DussesLJf"
   },
   "outputs": [],
   "source": []
  },
  {
   "cell_type": "code",
   "execution_count": null,
   "metadata": {
    "colab": {
     "base_uri": "https://localhost:8080/"
    },
    "id": "kVIJku2yf5vy",
    "outputId": "848c59f3-7308-4431-8596-02eb9f485d19"
   },
   "outputs": [
    {
     "name": "stdout",
     "output_type": "stream",
     "text": [
      "\n",
      "Accuracy: 0.7485954773363404\n",
      "Coherence Score: 0.4027059144824786\n"
     ]
    }
   ],
   "source": [
    "# Make predictions and calculate accuracy\n",
    "y_pred = classifier.predict(X_test_features)\n",
    "predicted_categories = label_encoder.inverse_transform(y_pred)\n",
    "accuracy = accuracy_score(y_test_encoded, y_pred)\n",
    "print(f\"\\nAccuracy: {accuracy}\")\n",
    "id2word_test = corpora.Dictionary(X_test_tokens)\n",
    "\n",
    "# Compute coherence score\n",
    "coherence_model_lda = CoherenceModel(model=lda_model, texts=X_test_tokens, dictionary=id2word_test, coherence='c_v')\n",
    "coherence_lda = coherence_model_lda.get_coherence()\n",
    "print(f\"Coherence Score: {coherence_lda}\")"
   ]
  },
  {
   "cell_type": "code",
   "execution_count": null,
   "metadata": {
    "colab": {
     "base_uri": "https://localhost:8080/"
    },
    "id": "gh0RaPFiJwY6",
    "outputId": "d93a13c2-e88f-43f2-d9c6-5c190b08dfa6"
   },
   "outputs": [
    {
     "name": "stdout",
     "output_type": "stream",
     "text": [
      "              precision    recall  f1-score   support\n",
      "\n",
      "      beauty       0.59      0.77      0.67     12703\n",
      "       books       0.96      0.99      0.98      9723\n",
      " electronics       0.85      0.87      0.86      9169\n",
      "     grocery       0.81      0.92      0.86      9022\n",
      "        home       0.45      0.17      0.25      9044\n",
      "\n",
      "    accuracy                           0.75     49661\n",
      "   macro avg       0.73      0.74      0.72     49661\n",
      "weighted avg       0.72      0.75      0.72     49661\n",
      "\n"
     ]
    }
   ],
   "source": [
    "from sklearn.metrics import classification_report\n",
    "\n",
    "print(classification_report(y_test, predicted_categories))\n"
   ]
  },
  {
   "cell_type": "markdown",
   "metadata": {
    "id": "2-rTrdvAsaGU"
   },
   "source": [
    "##Mapping Predictions to Zones\n",
    "\n",
    "1-We mapped the predicted categories to predefined zones as follows:\n",
    "\n",
    "Beauty-> Cosmetic Zone\n",
    "\n",
    "Books-> Dry Zone\n",
    "\n",
    "Electronics-> Dry Zone\n",
    "\n",
    "Home-> Bulk Zone\n",
    "\n",
    "Grocery-> Food Zone\n",
    "\n",
    "2-We created a results table with descriptions, categories, and zones for better interpretation."
   ]
  },
  {
   "cell_type": "code",
   "execution_count": null,
   "metadata": {
    "colab": {
     "base_uri": "https://localhost:8080/",
     "height": 206
    },
    "id": "w73wVNVaXEKr",
    "outputId": "c0f7acd0-8dff-4cbc-d4ae-c994578271be"
   },
   "outputs": [
    {
     "data": {
      "application/vnd.google.colaboratory.intrinsic+json": {
       "summary": "{\n  \"name\": \"results_df_lda[['description', 'Category', 'Zone']]\",\n  \"rows\": 5,\n  \"fields\": [\n    {\n      \"column\": \"description\",\n      \"properties\": {\n        \"dtype\": \"string\",\n        \"num_unique_values\": 5,\n        \"samples\": [\n          \"review susan gregg gilmores novel voice similar fannie flagg reader southern story enjoy poignant selfdiscovery journey lovable heroine tampa tribune gilmore tell tale gentle humor genuine regard character omaha worldherald comparison compare susan gregg gilmore fannie flagg gilmore hold unusually engaging novel fine writer know exactly doinglee smith author last girl susan gregg gilmores debut novel looking salvation dairy queen storytelling best entertaining lively full surprise catherine grace cline endearing witty heroine give domestic journey title biblical proportion find salvation along way jill mccorkle author carolina moon author susan gregg gilmore author novel looking salvation dairy queen improper life bezellia grove written chattanooga free press los angeles christian science monitor born nashville life tennessee husband three daughter excerpt reprinted permission right reserved chapter beginningmy daddy always said good lord take care something small baby sparrow nesting tree surely could take listen little girl ringgold georgia every night went bed got knee begged lord find way town every morning woke old placeit place catherine grace cline never wanted call home even though born raised place everybody knew everything underwear mama bought dollar general store place never felt right sweater fit tight arm place girl traded dream boy couple acre land woodframed house electric stove place always planned leavingwhen nine old tornado tore right close house remember yelling little sister run hide basement martha ann warned twister hit town nobody even going notice goneshe started cry fear going swept cloud carried away nobody even daddy able find turned thing importance swept sky day mr naylors old hound dog people said buster black flew fifteen mile long lonesome ear flapping wing landing middle cornfield next countymr naylor walked mile looking dadgum dog till finally daddy sheriff go pick poor man finished planting wooden cross buster little house darn fourlegged fool didnt come limping back home wagging tail acting hed found promised land mr naylor cry praising lord holding buster black arm local newspaper ran picture right front page dog kind prodigal sonyou know martha ann told reading buster triumphant return tornado might ticket unlike stupid old hound dog going limp back homemy daddy said little girl big imagination maybe maybe patient girl big dream despairing girl waiting divine deliverance either way going hitch ride ringgold whether fiery twister ripping path georgia sky greyhound bus rolling way interstate truth told never even liked name ringgold mean there nothing green rolling hill even faintly resembles ring gold ring anything matter believe martha ann looked somehow figuring could find ring tree ancient rock maybe living kind meaning searching best could figure darn hill stared every morning bedroom window formed ring ring kept hostage eighteen lifenobody much ever bother visit town except trucker stop fill fuel tank get cheapest gas state mr gloria jean graves second cousin come birmingham every thanksgiving holiday since born always said refreshing get away big city daysone governor came twentyfive minute cut ribbon elementaryschool library everybody town came see daddy wear dress tie hair back ribbon going church six day week daddy didnt care much looked sunday morning negotiating dress code sister wore best dress fresh pair cotton panty underneath respect lord daddy saidi really didnt think jesus cared wore cedar grove baptist church see governor matter considering fact every picture ever saw king king wearing sandal bundled nothing big baggy robe figured governor must important person ever going meet daddy making wear navy blue sunday dress white lacy collar patentleather mary janesmartha ann pitched fit wearing sunday clothes daddy ended leaving home neighbor little sister couple younger always couple taller guess came world thick dark brown hair deep brown eye mama blue eye daddy straight brown hair look field mousemartha ann pretty baby pretty girl everything face fit together perfectly little people said looked twin better reason might wearing shirt wonder truly looking u thing certain martha ann hated putting sunday clothes even shed much rather library picking book read waiting look strange man cut ribboni told didnt stop stomping snorting going get left behind sure enough spend entire afternoon ida belle fletcher shucking eightyfour ear corn wednesdaynight supper churchida belle said cooked lord knew smelled unsavory combination leftover bacon grease palmolive soap kept big round tummy covered tattered old apron permanently stained meal another day saw without apron sitting church kept folded pocketbookmy patentleather shoe rubbed blister big toe worth governor turned nothing else handsomelooking man id ever seen wore dark navy suit crisp white shirt must starched stiff couldve stood redandbluestriped tie pulled around neck tip white handkerchief peeking suit pocket never seen man dressed fancy ringgold minute jumped back long black car sped highway wanted go bad week went bed night got knee begged lord governor daughterbut didnt bother answer prayer either really thought god put reason daddy kept telling hadnt figured yetnow know father certified man god fairly young age decided came destiny know talking certainly understand nothing ringgold georgia sometimes wondered noticed town red light parttime sheriff post office nothing gray metal trailer perched bunch cinder block back shop rite parking lotthere losing highschool football team diner serving pork chop thursday since fire station burned five six ago entire fire department amounted sum total edward lankford bostleman spending night aunt house lafayette read\",\n          \"brand weight g approx materialhightemperature fiber texturewave colornatural blackdeep brownlight brown lengthabout cm item includeswig kind remind item displayed photo may showing slightly different computer monitor since monitor calibrated\",\n          \"crunchy buttery indulgence rich buttery glaze\"\n        ],\n        \"semantic_type\": \"\",\n        \"description\": \"\"\n      }\n    },\n    {\n      \"column\": \"Category\",\n      \"properties\": {\n        \"dtype\": \"string\",\n        \"num_unique_values\": 4,\n        \"samples\": [\n          \"books\",\n          \"beauty\",\n          \"electronics\"\n        ],\n        \"semantic_type\": \"\",\n        \"description\": \"\"\n      }\n    },\n    {\n      \"column\": \"Zone\",\n      \"properties\": {\n        \"dtype\": \"string\",\n        \"num_unique_values\": 3,\n        \"samples\": [\n          \"Dry Zone\",\n          \"Food Zone\",\n          \"Cosmetic Zone\"\n        ],\n        \"semantic_type\": \"\",\n        \"description\": \"\"\n      }\n    }\n  ]\n}",
       "type": "dataframe"
      },
      "text/html": [
       "\n",
       "  <div id=\"df-0818f5c6-96e1-47aa-bcac-94e48c49885e\" class=\"colab-df-container\">\n",
       "    <div>\n",
       "<style scoped>\n",
       "    .dataframe tbody tr th:only-of-type {\n",
       "        vertical-align: middle;\n",
       "    }\n",
       "\n",
       "    .dataframe tbody tr th {\n",
       "        vertical-align: top;\n",
       "    }\n",
       "\n",
       "    .dataframe thead th {\n",
       "        text-align: right;\n",
       "    }\n",
       "</style>\n",
       "<table border=\"1\" class=\"dataframe\">\n",
       "  <thead>\n",
       "    <tr style=\"text-align: right;\">\n",
       "      <th></th>\n",
       "      <th>description</th>\n",
       "      <th>Category</th>\n",
       "      <th>Zone</th>\n",
       "    </tr>\n",
       "  </thead>\n",
       "  <tbody>\n",
       "    <tr>\n",
       "      <th>0</th>\n",
       "      <td>cleanly mount accessory usb port dash vehicle ...</td>\n",
       "      <td>electronics</td>\n",
       "      <td>Dry Zone</td>\n",
       "    </tr>\n",
       "    <tr>\n",
       "      <th>1</th>\n",
       "      <td>review susan gregg gilmores novel voice simila...</td>\n",
       "      <td>books</td>\n",
       "      <td>Dry Zone</td>\n",
       "    </tr>\n",
       "    <tr>\n",
       "      <th>2</th>\n",
       "      <td>crunchy buttery indulgence rich buttery glaze</td>\n",
       "      <td>grocery</td>\n",
       "      <td>Food Zone</td>\n",
       "    </tr>\n",
       "    <tr>\n",
       "      <th>3</th>\n",
       "      <td>primera fragancia para jóvenes de burbu la fra...</td>\n",
       "      <td>books</td>\n",
       "      <td>Dry Zone</td>\n",
       "    </tr>\n",
       "    <tr>\n",
       "      <th>4</th>\n",
       "      <td>brand weight g approx materialhightemperature ...</td>\n",
       "      <td>beauty</td>\n",
       "      <td>Cosmetic Zone</td>\n",
       "    </tr>\n",
       "  </tbody>\n",
       "</table>\n",
       "</div>\n",
       "    <div class=\"colab-df-buttons\">\n",
       "\n",
       "  <div class=\"colab-df-container\">\n",
       "    <button class=\"colab-df-convert\" onclick=\"convertToInteractive('df-0818f5c6-96e1-47aa-bcac-94e48c49885e')\"\n",
       "            title=\"Convert this dataframe to an interactive table.\"\n",
       "            style=\"display:none;\">\n",
       "\n",
       "  <svg xmlns=\"http://www.w3.org/2000/svg\" height=\"24px\" viewBox=\"0 -960 960 960\">\n",
       "    <path d=\"M120-120v-720h720v720H120Zm60-500h600v-160H180v160Zm220 220h160v-160H400v160Zm0 220h160v-160H400v160ZM180-400h160v-160H180v160Zm440 0h160v-160H620v160ZM180-180h160v-160H180v160Zm440 0h160v-160H620v160Z\"/>\n",
       "  </svg>\n",
       "    </button>\n",
       "\n",
       "  <style>\n",
       "    .colab-df-container {\n",
       "      display:flex;\n",
       "      gap: 12px;\n",
       "    }\n",
       "\n",
       "    .colab-df-convert {\n",
       "      background-color: #E8F0FE;\n",
       "      border: none;\n",
       "      border-radius: 50%;\n",
       "      cursor: pointer;\n",
       "      display: none;\n",
       "      fill: #1967D2;\n",
       "      height: 32px;\n",
       "      padding: 0 0 0 0;\n",
       "      width: 32px;\n",
       "    }\n",
       "\n",
       "    .colab-df-convert:hover {\n",
       "      background-color: #E2EBFA;\n",
       "      box-shadow: 0px 1px 2px rgba(60, 64, 67, 0.3), 0px 1px 3px 1px rgba(60, 64, 67, 0.15);\n",
       "      fill: #174EA6;\n",
       "    }\n",
       "\n",
       "    .colab-df-buttons div {\n",
       "      margin-bottom: 4px;\n",
       "    }\n",
       "\n",
       "    [theme=dark] .colab-df-convert {\n",
       "      background-color: #3B4455;\n",
       "      fill: #D2E3FC;\n",
       "    }\n",
       "\n",
       "    [theme=dark] .colab-df-convert:hover {\n",
       "      background-color: #434B5C;\n",
       "      box-shadow: 0px 1px 3px 1px rgba(0, 0, 0, 0.15);\n",
       "      filter: drop-shadow(0px 1px 2px rgba(0, 0, 0, 0.3));\n",
       "      fill: #FFFFFF;\n",
       "    }\n",
       "  </style>\n",
       "\n",
       "    <script>\n",
       "      const buttonEl =\n",
       "        document.querySelector('#df-0818f5c6-96e1-47aa-bcac-94e48c49885e button.colab-df-convert');\n",
       "      buttonEl.style.display =\n",
       "        google.colab.kernel.accessAllowed ? 'block' : 'none';\n",
       "\n",
       "      async function convertToInteractive(key) {\n",
       "        const element = document.querySelector('#df-0818f5c6-96e1-47aa-bcac-94e48c49885e');\n",
       "        const dataTable =\n",
       "          await google.colab.kernel.invokeFunction('convertToInteractive',\n",
       "                                                    [key], {});\n",
       "        if (!dataTable) return;\n",
       "\n",
       "        const docLinkHtml = 'Like what you see? Visit the ' +\n",
       "          '<a target=\"_blank\" href=https://colab.research.google.com/notebooks/data_table.ipynb>data table notebook</a>'\n",
       "          + ' to learn more about interactive tables.';\n",
       "        element.innerHTML = '';\n",
       "        dataTable['output_type'] = 'display_data';\n",
       "        await google.colab.output.renderOutput(dataTable, element);\n",
       "        const docLink = document.createElement('div');\n",
       "        docLink.innerHTML = docLinkHtml;\n",
       "        element.appendChild(docLink);\n",
       "      }\n",
       "    </script>\n",
       "  </div>\n",
       "\n",
       "\n",
       "<div id=\"df-08c957c3-b19e-4fc9-ad71-c4e7eb2fa71f\">\n",
       "  <button class=\"colab-df-quickchart\" onclick=\"quickchart('df-08c957c3-b19e-4fc9-ad71-c4e7eb2fa71f')\"\n",
       "            title=\"Suggest charts\"\n",
       "            style=\"display:none;\">\n",
       "\n",
       "<svg xmlns=\"http://www.w3.org/2000/svg\" height=\"24px\"viewBox=\"0 0 24 24\"\n",
       "     width=\"24px\">\n",
       "    <g>\n",
       "        <path d=\"M19 3H5c-1.1 0-2 .9-2 2v14c0 1.1.9 2 2 2h14c1.1 0 2-.9 2-2V5c0-1.1-.9-2-2-2zM9 17H7v-7h2v7zm4 0h-2V7h2v10zm4 0h-2v-4h2v4z\"/>\n",
       "    </g>\n",
       "</svg>\n",
       "  </button>\n",
       "\n",
       "<style>\n",
       "  .colab-df-quickchart {\n",
       "      --bg-color: #E8F0FE;\n",
       "      --fill-color: #1967D2;\n",
       "      --hover-bg-color: #E2EBFA;\n",
       "      --hover-fill-color: #174EA6;\n",
       "      --disabled-fill-color: #AAA;\n",
       "      --disabled-bg-color: #DDD;\n",
       "  }\n",
       "\n",
       "  [theme=dark] .colab-df-quickchart {\n",
       "      --bg-color: #3B4455;\n",
       "      --fill-color: #D2E3FC;\n",
       "      --hover-bg-color: #434B5C;\n",
       "      --hover-fill-color: #FFFFFF;\n",
       "      --disabled-bg-color: #3B4455;\n",
       "      --disabled-fill-color: #666;\n",
       "  }\n",
       "\n",
       "  .colab-df-quickchart {\n",
       "    background-color: var(--bg-color);\n",
       "    border: none;\n",
       "    border-radius: 50%;\n",
       "    cursor: pointer;\n",
       "    display: none;\n",
       "    fill: var(--fill-color);\n",
       "    height: 32px;\n",
       "    padding: 0;\n",
       "    width: 32px;\n",
       "  }\n",
       "\n",
       "  .colab-df-quickchart:hover {\n",
       "    background-color: var(--hover-bg-color);\n",
       "    box-shadow: 0 1px 2px rgba(60, 64, 67, 0.3), 0 1px 3px 1px rgba(60, 64, 67, 0.15);\n",
       "    fill: var(--button-hover-fill-color);\n",
       "  }\n",
       "\n",
       "  .colab-df-quickchart-complete:disabled,\n",
       "  .colab-df-quickchart-complete:disabled:hover {\n",
       "    background-color: var(--disabled-bg-color);\n",
       "    fill: var(--disabled-fill-color);\n",
       "    box-shadow: none;\n",
       "  }\n",
       "\n",
       "  .colab-df-spinner {\n",
       "    border: 2px solid var(--fill-color);\n",
       "    border-color: transparent;\n",
       "    border-bottom-color: var(--fill-color);\n",
       "    animation:\n",
       "      spin 1s steps(1) infinite;\n",
       "  }\n",
       "\n",
       "  @keyframes spin {\n",
       "    0% {\n",
       "      border-color: transparent;\n",
       "      border-bottom-color: var(--fill-color);\n",
       "      border-left-color: var(--fill-color);\n",
       "    }\n",
       "    20% {\n",
       "      border-color: transparent;\n",
       "      border-left-color: var(--fill-color);\n",
       "      border-top-color: var(--fill-color);\n",
       "    }\n",
       "    30% {\n",
       "      border-color: transparent;\n",
       "      border-left-color: var(--fill-color);\n",
       "      border-top-color: var(--fill-color);\n",
       "      border-right-color: var(--fill-color);\n",
       "    }\n",
       "    40% {\n",
       "      border-color: transparent;\n",
       "      border-right-color: var(--fill-color);\n",
       "      border-top-color: var(--fill-color);\n",
       "    }\n",
       "    60% {\n",
       "      border-color: transparent;\n",
       "      border-right-color: var(--fill-color);\n",
       "    }\n",
       "    80% {\n",
       "      border-color: transparent;\n",
       "      border-right-color: var(--fill-color);\n",
       "      border-bottom-color: var(--fill-color);\n",
       "    }\n",
       "    90% {\n",
       "      border-color: transparent;\n",
       "      border-bottom-color: var(--fill-color);\n",
       "    }\n",
       "  }\n",
       "</style>\n",
       "\n",
       "  <script>\n",
       "    async function quickchart(key) {\n",
       "      const quickchartButtonEl =\n",
       "        document.querySelector('#' + key + ' button');\n",
       "      quickchartButtonEl.disabled = true;  // To prevent multiple clicks.\n",
       "      quickchartButtonEl.classList.add('colab-df-spinner');\n",
       "      try {\n",
       "        const charts = await google.colab.kernel.invokeFunction(\n",
       "            'suggestCharts', [key], {});\n",
       "      } catch (error) {\n",
       "        console.error('Error during call to suggestCharts:', error);\n",
       "      }\n",
       "      quickchartButtonEl.classList.remove('colab-df-spinner');\n",
       "      quickchartButtonEl.classList.add('colab-df-quickchart-complete');\n",
       "    }\n",
       "    (() => {\n",
       "      let quickchartButtonEl =\n",
       "        document.querySelector('#df-08c957c3-b19e-4fc9-ad71-c4e7eb2fa71f button');\n",
       "      quickchartButtonEl.style.display =\n",
       "        google.colab.kernel.accessAllowed ? 'block' : 'none';\n",
       "    })();\n",
       "  </script>\n",
       "</div>\n",
       "\n",
       "    </div>\n",
       "  </div>\n"
      ],
      "text/plain": [
       "                                         description     Category  \\\n",
       "0  cleanly mount accessory usb port dash vehicle ...  electronics   \n",
       "1  review susan gregg gilmores novel voice simila...        books   \n",
       "2      crunchy buttery indulgence rich buttery glaze      grocery   \n",
       "3  primera fragancia para jóvenes de burbu la fra...        books   \n",
       "4  brand weight g approx materialhightemperature ...       beauty   \n",
       "\n",
       "            Zone  \n",
       "0       Dry Zone  \n",
       "1       Dry Zone  \n",
       "2      Food Zone  \n",
       "3       Dry Zone  \n",
       "4  Cosmetic Zone  "
      ]
     },
     "execution_count": 26,
     "metadata": {},
     "output_type": "execute_result"
    }
   ],
   "source": [
    "# Category to Zone mapping\n",
    "\n",
    "category_to_zone = {\n",
    "    \"beauty\": \"Cosmetic Zone\",\n",
    "    \"books\": \"Dry Zone\",\n",
    "    \"electronics\": \"Dry Zone\",\n",
    "    \"home\": \"Bulk Zone\",\n",
    "    \"grocery\": \"Food Zone\"\n",
    "}\n",
    "\n",
    "\n",
    "predicted_zones = [category_to_zone[category] for category in predicted_categories]\n",
    "\n",
    "\n",
    "results_df_lda = pd.DataFrame({\n",
    "    'description': X_test,\n",
    "    'Category': predicted_categories,\n",
    "    'Zone': predicted_zones\n",
    "\n",
    "results_df_lda[['description', 'Category', 'Zone']].head()\n"
   ]
  },
  {
   "cell_type": "code",
   "execution_count": null,
   "metadata": {
    "colab": {
     "base_uri": "https://localhost:8080/"
    },
    "id": "LXC9wLtVfzYP",
    "outputId": "a14d3b56-d83c-4323-9412-4f7f944c44e1"
   },
   "outputs": [
    {
     "name": "stdout",
     "output_type": "stream",
     "text": [
      "      Category           Zone\n",
      "0  electronics       Dry Zone\n",
      "1        books       Dry Zone\n",
      "2      grocery      Food Zone\n",
      "3        books       Dry Zone\n",
      "4       beauty  Cosmetic Zone\n"
     ]
    }
   ],
   "source": [
    "print(results_df_lda[['Category', 'Zone']].head())  # Show first few rows\n"
   ]
  },
  {
   "cell_type": "code",
   "execution_count": null,
   "metadata": {
    "id": "LZeBhgV5GP3R"
   },
   "outputs": [],
   "source": [
    "lda_model.save(\"/content/drive/MyDrive/LDAmodel/lda_model.gensim\")"
   ]
  },
  {
   "cell_type": "markdown",
   "metadata": {
    "id": "hOe-C_f4vOP4"
   },
   "source": [
    "##Conclusion\n",
    "Through this project, we explored the use of LDA for topic modeling and its integration with machine learning. We learned how to preprocess text data, train an LDA model, and extract meaningful topics. Using these topics, we developed a classification model that effectively categorized and mapped data to predefined zones.\n",
    "\n",
    "This process taught us the importance of text preprocessing, the utility of topic modeling in understanding data patterns, and how to evaluate model performance using metrics like accuracy and coherence scores. We also gained experience in combining unsupervised and supervised learning techniques for practical applications."
   ]
  },
  {
   "cell_type": "code",
   "execution_count": null,
   "metadata": {
    "id": "6T18Pxb6Gd6K"
   },
   "outputs": [],
   "source": []
  }
 ],
 "metadata": {
  "accelerator": "GPU",
  "colab": {
   "gpuType": "T4",
   "machine_shape": "hm",
   "provenance": []
  },
  "kernelspec": {
   "display_name": "Python 3",
   "name": "python3"
  },
  "language_info": {
   "name": "python"
  }
 },
 "nbformat": 4,
 "nbformat_minor": 0
}
