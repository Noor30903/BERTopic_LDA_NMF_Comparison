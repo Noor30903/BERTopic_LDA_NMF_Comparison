{
  "cells": [
    {
      "cell_type": "code",
      "execution_count": null,
      "metadata": {
        "id": "UL6DeXfiVgdM",
        "colab": {
          "base_uri": "https://localhost:8080/"
        },
        "outputId": "3fa97446-8e2d-44e9-d0a3-6512e67ff4bc"
      },
      "outputs": [
        {
          "output_type": "stream",
          "name": "stdout",
          "text": [
            "Mounted at /content/drive\n"
          ]
        }
      ],
      "source": [
        "from google.colab import drive\n",
        "drive.mount('/content/drive')\n"
      ]
    },
    {
      "cell_type": "code",
      "execution_count": null,
      "metadata": {
        "id": "60QasmjNtS9m"
      },
      "outputs": [],
      "source": [
        "import pandas as pd\n",
        "from collections import Counter\n",
        "import re\n",
        "from nltk.corpus import stopwords\n",
        "import nltk"
      ]
    },
    {
      "cell_type": "code",
      "execution_count": null,
      "metadata": {
        "colab": {
          "base_uri": "https://localhost:8080/"
        },
        "id": "cfX3np1AV-EW",
        "outputId": "8c7d75d4-c336-4a5f-fb13-240f489ff3d9"
      },
      "outputs": [
        {
          "output_type": "stream",
          "name": "stderr",
          "text": [
            "[nltk_data] Downloading package punkt to /root/nltk_data...\n",
            "[nltk_data]   Unzipping tokenizers/punkt.zip.\n",
            "[nltk_data] Downloading package wordnet to /root/nltk_data...\n",
            "[nltk_data] Downloading package punkt_tab to /root/nltk_data...\n",
            "[nltk_data]   Unzipping tokenizers/punkt_tab.zip.\n",
            "[nltk_data] Downloading package stopwords to /root/nltk_data...\n",
            "[nltk_data]   Unzipping corpora/stopwords.zip.\n"
          ]
        }
      ],
      "source": [
        "import pandas as pd\n",
        "import numpy as np\n",
        "import re\n",
        "import nltk\n",
        "import string\n",
        "import joblib\n",
        "nltk.download('punkt')\n",
        "nltk.download('wordnet')\n",
        "nltk.download('punkt_tab')\n",
        "nltk.download('stopwords')\n",
        "from nltk.tokenize import word_tokenize\n",
        "from nltk.corpus import stopwords\n",
        "from nltk.stem import  WordNetLemmatizer\n",
        "from nltk.stem import PorterStemmer\n",
        "stopwords_english = stopwords.words('english')\n",
        "lemmatizer = WordNetLemmatizer()\n",
        "stemmer = PorterStemmer()\n",
        "from sklearn.feature_extraction.text import CountVectorizer\n",
        "from sklearn.feature_extraction.text import TfidfVectorizer\n",
        "from sklearn.feature_extraction.text import TfidfTransformer\n",
        "from sklearn.linear_model import SGDClassifier\n",
        "from sklearn.pipeline import Pipeline\n",
        "from sklearn.model_selection import train_test_split\n"
      ]
    },
    {
      "cell_type": "code",
      "execution_count": null,
      "metadata": {
        "id": "dhamkY8gY64A"
      },
      "outputs": [],
      "source": [
        "csv_files = [\"/content/drive/MyDrive/dbeauty.csv\",\"/content/drive/MyDrive/dbeauty2.csv\", \"/content/drive/MyDrive/dbooks.csv\", \"/content/drive/MyDrive/delectronics.csv\", \"/content/drive/MyDrive/dgrocery.csv\", \"/content/drive/MyDrive/dhome_g.csv\"]\n"
      ]
    },
    {
      "cell_type": "code",
      "execution_count": null,
      "metadata": {
        "id": "q99sui11Y9Wi"
      },
      "outputs": [],
      "source": [
        "merged_data = pd.concat([pd.read_csv(file) for file in csv_files], ignore_index=True)"
      ]
    },
    {
      "cell_type": "code",
      "source": [
        "merged_data.shape"
      ],
      "metadata": {
        "colab": {
          "base_uri": "https://localhost:8080/"
        },
        "id": "iiBoGahNi1jR",
        "outputId": "a65c17aa-21f3-40ba-c9a3-fddd8d92cfee"
      },
      "execution_count": null,
      "outputs": [
        {
          "output_type": "execute_result",
          "data": {
            "text/plain": [
              "(268753, 2)"
            ]
          },
          "metadata": {},
          "execution_count": 6
        }
      ]
    },
    {
      "cell_type": "code",
      "execution_count": null,
      "metadata": {
        "id": "hjYDWCAqVU9U"
      },
      "outputs": [],
      "source": [
        "expanded_stop_phrases = [\n",
        "    \"specially designed\", \"perfect for\", \"authentically capture\", \"lighted market style\",\n",
        "    \"beautiful stickers\", \"made from\", \"ideal for\", \"great for\", \"easy to use\",\n",
        "    \"high quality\", \"durable and reliable\", \"this product is\", \"excellent choice\",\n",
        "    \"long lasting\", \"premium quality\", \"perfect gift\", \"great addition\", \"versatile\",\n",
        "    \"easy storage\", \"top notch\", \"state of the art\", \"precision milled\", \"beautifully crafted\"\n",
        "]"
      ]
    },
    {
      "cell_type": "code",
      "execution_count": null,
      "metadata": {
        "id": "mC9WscLlVXvx"
      },
      "outputs": [],
      "source": [
        "# Function to remove stop phrases\n",
        "def remove_stop_phrases(text, stop_phrases):\n",
        "    pattern = r'\\b(?:' + '|'.join(map(re.escape, stop_phrases)) + r')\\b'\n",
        "    return re.sub(pattern, '', text, flags=re.IGNORECASE)"
      ]
    },
    {
      "cell_type": "code",
      "execution_count": null,
      "metadata": {
        "id": "-z6D1GW5VzNc"
      },
      "outputs": [],
      "source": [
        "def remove_emojis(text):\n",
        "    emoji_pattern = re.compile(\n",
        "        \"[\"\n",
        "        u\"\\U0001F600-\\U0001F64F\"  # emoticons\n",
        "        u\"\\U0001F300-\\U0001F5FF\"  # symbols & pictographs\n",
        "        u\"\\U0001F680-\\U0001F6FF\"  # transport & map symbols\n",
        "        u\"\\U0001F1E0-\\U0001F1FF\"  # flags\n",
        "        u\"\\U00002500-\\U00002BEF\"  # chinese characters\n",
        "        u\"\\U00002702-\\U000027B0\"\n",
        "        u\"\\U000024C2-\\U0001F251\"\n",
        "        \"]+\", flags=re.UNICODE\n",
        "    )\n",
        "    return emoji_pattern.sub(r'', text)"
      ]
    },
    {
      "cell_type": "code",
      "execution_count": null,
      "metadata": {
        "id": "XJwN3FPDV7Ke"
      },
      "outputs": [],
      "source": [
        "def clean_text(text):\n",
        "    if not isinstance(text, str):\n",
        "        return \"\"\n",
        "    text = text.lower().translate(str.maketrans('', '', string.punctuation + string.digits))\n",
        "    text = remove_emojis(text)  # Remove emojis\n",
        "    text = remove_stop_phrases(text, expanded_stop_phrases)\n",
        "    text = re.sub(r'[^\\w\\s]', '', text)\n",
        "    text = re.sub(r'\\W+', ' ', text)  # Remove non-alphanumeric characters\n",
        "    text = re.sub(r'\\s+', ' ', text).strip()  # Remove extra spaces\n",
        "    word_tokens = word_tokenize(text)\n",
        "\n",
        "    text_clean = []\n",
        "\n",
        "    for word in word_tokens: # Go through every word in your tokens list\n",
        "        if (word not in stopwords_english and  # remove stopwords\n",
        "            word not in string.punctuation):  # remove punctuation\n",
        "            text_clean.append(word)\n",
        "\n",
        "    return ' '.join([lemmatizer.lemmatize(word) for word in text_clean])"
      ]
    },
    {
      "cell_type": "code",
      "execution_count": null,
      "metadata": {
        "id": "Mo-ZR5waV40A"
      },
      "outputs": [],
      "source": [
        "merged_data['description'] = merged_data['description'].str.replace(r'\\d+', '', regex=True)"
      ]
    },
    {
      "cell_type": "code",
      "execution_count": null,
      "metadata": {
        "id": "ZOzuIYQ1XBZ0"
      },
      "outputs": [],
      "source": [
        "merged_data['description'] = merged_data['description'].apply(clean_text)"
      ]
    },
    {
      "cell_type": "code",
      "execution_count": null,
      "metadata": {
        "id": "_XX6jZqwXFLz"
      },
      "outputs": [],
      "source": [
        "merged_data['description'] = merged_data['description'].apply(lambda x: ' '.join(x) if isinstance(x, list) else x)"
      ]
    },
    {
      "cell_type": "markdown",
      "metadata": {
        "id": "sd-TpJKT9BTL"
      },
      "source": [
        "split\n"
      ]
    },
    {
      "cell_type": "code",
      "execution_count": null,
      "metadata": {
        "colab": {
          "base_uri": "https://localhost:8080/"
        },
        "id": "RGeMD9INZ2IJ",
        "outputId": "4983f1d8-2c7c-4aca-b405-7697841291e1"
      },
      "outputs": [
        {
          "output_type": "execute_result",
          "data": {
            "text/plain": [
              "(268753, 2)"
            ]
          },
          "metadata": {},
          "execution_count": 39
        }
      ],
      "source": [
        "merged_data.shape"
      ]
    },
    {
      "cell_type": "code",
      "execution_count": null,
      "metadata": {
        "id": "wcFmimf5w4tk"
      },
      "outputs": [],
      "source": [
        "merged_data= merged_data.drop_duplicates(subset=['description'])"
      ]
    },
    {
      "cell_type": "code",
      "execution_count": null,
      "metadata": {
        "colab": {
          "base_uri": "https://localhost:8080/",
          "height": 147
        },
        "id": "BHKgf-mFt7hb",
        "outputId": "bbe792dc-b552-42d5-91f6-3817a9f36434"
      },
      "outputs": [
        {
          "output_type": "execute_result",
          "data": {
            "text/plain": [
              "main_category    0\n",
              "description      0\n",
              "dtype: int64"
            ],
            "text/html": [
              "<div>\n",
              "<style scoped>\n",
              "    .dataframe tbody tr th:only-of-type {\n",
              "        vertical-align: middle;\n",
              "    }\n",
              "\n",
              "    .dataframe tbody tr th {\n",
              "        vertical-align: top;\n",
              "    }\n",
              "\n",
              "    .dataframe thead th {\n",
              "        text-align: right;\n",
              "    }\n",
              "</style>\n",
              "<table border=\"1\" class=\"dataframe\">\n",
              "  <thead>\n",
              "    <tr style=\"text-align: right;\">\n",
              "      <th></th>\n",
              "      <th>0</th>\n",
              "    </tr>\n",
              "  </thead>\n",
              "  <tbody>\n",
              "    <tr>\n",
              "      <th>main_category</th>\n",
              "      <td>0</td>\n",
              "    </tr>\n",
              "    <tr>\n",
              "      <th>description</th>\n",
              "      <td>0</td>\n",
              "    </tr>\n",
              "  </tbody>\n",
              "</table>\n",
              "</div><br><label><b>dtype:</b> int64</label>"
            ]
          },
          "metadata": {},
          "execution_count": 41
        }
      ],
      "source": [
        "merged_data.isnull().sum()"
      ]
    },
    {
      "cell_type": "code",
      "execution_count": null,
      "metadata": {
        "id": "ZDL0b6nzuBaJ"
      },
      "outputs": [],
      "source": [
        "merged_data = merged_data.dropna()"
      ]
    },
    {
      "cell_type": "code",
      "execution_count": null,
      "metadata": {
        "colab": {
          "base_uri": "https://localhost:8080/"
        },
        "id": "HXqM1jloZ6n5",
        "outputId": "b2172fd9-5341-42e3-e09a-574c4787d492"
      },
      "outputs": [
        {
          "output_type": "execute_result",
          "data": {
            "text/plain": [
              "(248319, 2)"
            ]
          },
          "metadata": {},
          "execution_count": 43
        }
      ],
      "source": [
        "merged_data.shape"
      ]
    },
    {
      "cell_type": "code",
      "execution_count": null,
      "metadata": {
        "colab": {
          "base_uri": "https://localhost:8080/",
          "height": 206
        },
        "id": "oxHccRN8dRCM",
        "outputId": "9e195e9d-486c-4c74-a936-f945920e5310"
      },
      "outputs": [
        {
          "output_type": "execute_result",
          "data": {
            "text/plain": [
              "       main_category                                        description\n",
              "268747          home  classroom american flag standard size approved...\n",
              "268749          home  planting instruction sowing seed immersed cold...\n",
              "268750          home  numex big jim listed guinness book world recor...\n",
              "268751          home  moroccan influence abound geometric design tri...\n",
              "268752          home  round current outdoor furniture collection cou..."
            ],
            "text/html": [
              "\n",
              "  <div id=\"df-82c76302-6e35-4619-a544-fe839289ff0b\" class=\"colab-df-container\">\n",
              "    <div>\n",
              "<style scoped>\n",
              "    .dataframe tbody tr th:only-of-type {\n",
              "        vertical-align: middle;\n",
              "    }\n",
              "\n",
              "    .dataframe tbody tr th {\n",
              "        vertical-align: top;\n",
              "    }\n",
              "\n",
              "    .dataframe thead th {\n",
              "        text-align: right;\n",
              "    }\n",
              "</style>\n",
              "<table border=\"1\" class=\"dataframe\">\n",
              "  <thead>\n",
              "    <tr style=\"text-align: right;\">\n",
              "      <th></th>\n",
              "      <th>main_category</th>\n",
              "      <th>description</th>\n",
              "    </tr>\n",
              "  </thead>\n",
              "  <tbody>\n",
              "    <tr>\n",
              "      <th>268747</th>\n",
              "      <td>home</td>\n",
              "      <td>classroom american flag standard size approved...</td>\n",
              "    </tr>\n",
              "    <tr>\n",
              "      <th>268749</th>\n",
              "      <td>home</td>\n",
              "      <td>planting instruction sowing seed immersed cold...</td>\n",
              "    </tr>\n",
              "    <tr>\n",
              "      <th>268750</th>\n",
              "      <td>home</td>\n",
              "      <td>numex big jim listed guinness book world recor...</td>\n",
              "    </tr>\n",
              "    <tr>\n",
              "      <th>268751</th>\n",
              "      <td>home</td>\n",
              "      <td>moroccan influence abound geometric design tri...</td>\n",
              "    </tr>\n",
              "    <tr>\n",
              "      <th>268752</th>\n",
              "      <td>home</td>\n",
              "      <td>round current outdoor furniture collection cou...</td>\n",
              "    </tr>\n",
              "  </tbody>\n",
              "</table>\n",
              "</div>\n",
              "    <div class=\"colab-df-buttons\">\n",
              "\n",
              "  <div class=\"colab-df-container\">\n",
              "    <button class=\"colab-df-convert\" onclick=\"convertToInteractive('df-82c76302-6e35-4619-a544-fe839289ff0b')\"\n",
              "            title=\"Convert this dataframe to an interactive table.\"\n",
              "            style=\"display:none;\">\n",
              "\n",
              "  <svg xmlns=\"http://www.w3.org/2000/svg\" height=\"24px\" viewBox=\"0 -960 960 960\">\n",
              "    <path d=\"M120-120v-720h720v720H120Zm60-500h600v-160H180v160Zm220 220h160v-160H400v160Zm0 220h160v-160H400v160ZM180-400h160v-160H180v160Zm440 0h160v-160H620v160ZM180-180h160v-160H180v160Zm440 0h160v-160H620v160Z\"/>\n",
              "  </svg>\n",
              "    </button>\n",
              "\n",
              "  <style>\n",
              "    .colab-df-container {\n",
              "      display:flex;\n",
              "      gap: 12px;\n",
              "    }\n",
              "\n",
              "    .colab-df-convert {\n",
              "      background-color: #E8F0FE;\n",
              "      border: none;\n",
              "      border-radius: 50%;\n",
              "      cursor: pointer;\n",
              "      display: none;\n",
              "      fill: #1967D2;\n",
              "      height: 32px;\n",
              "      padding: 0 0 0 0;\n",
              "      width: 32px;\n",
              "    }\n",
              "\n",
              "    .colab-df-convert:hover {\n",
              "      background-color: #E2EBFA;\n",
              "      box-shadow: 0px 1px 2px rgba(60, 64, 67, 0.3), 0px 1px 3px 1px rgba(60, 64, 67, 0.15);\n",
              "      fill: #174EA6;\n",
              "    }\n",
              "\n",
              "    .colab-df-buttons div {\n",
              "      margin-bottom: 4px;\n",
              "    }\n",
              "\n",
              "    [theme=dark] .colab-df-convert {\n",
              "      background-color: #3B4455;\n",
              "      fill: #D2E3FC;\n",
              "    }\n",
              "\n",
              "    [theme=dark] .colab-df-convert:hover {\n",
              "      background-color: #434B5C;\n",
              "      box-shadow: 0px 1px 3px 1px rgba(0, 0, 0, 0.15);\n",
              "      filter: drop-shadow(0px 1px 2px rgba(0, 0, 0, 0.3));\n",
              "      fill: #FFFFFF;\n",
              "    }\n",
              "  </style>\n",
              "\n",
              "    <script>\n",
              "      const buttonEl =\n",
              "        document.querySelector('#df-82c76302-6e35-4619-a544-fe839289ff0b button.colab-df-convert');\n",
              "      buttonEl.style.display =\n",
              "        google.colab.kernel.accessAllowed ? 'block' : 'none';\n",
              "\n",
              "      async function convertToInteractive(key) {\n",
              "        const element = document.querySelector('#df-82c76302-6e35-4619-a544-fe839289ff0b');\n",
              "        const dataTable =\n",
              "          await google.colab.kernel.invokeFunction('convertToInteractive',\n",
              "                                                    [key], {});\n",
              "        if (!dataTable) return;\n",
              "\n",
              "        const docLinkHtml = 'Like what you see? Visit the ' +\n",
              "          '<a target=\"_blank\" href=https://colab.research.google.com/notebooks/data_table.ipynb>data table notebook</a>'\n",
              "          + ' to learn more about interactive tables.';\n",
              "        element.innerHTML = '';\n",
              "        dataTable['output_type'] = 'display_data';\n",
              "        await google.colab.output.renderOutput(dataTable, element);\n",
              "        const docLink = document.createElement('div');\n",
              "        docLink.innerHTML = docLinkHtml;\n",
              "        element.appendChild(docLink);\n",
              "      }\n",
              "    </script>\n",
              "  </div>\n",
              "\n",
              "\n",
              "<div id=\"df-0a17abb9-b585-4d7b-afc9-85c622820e11\">\n",
              "  <button class=\"colab-df-quickchart\" onclick=\"quickchart('df-0a17abb9-b585-4d7b-afc9-85c622820e11')\"\n",
              "            title=\"Suggest charts\"\n",
              "            style=\"display:none;\">\n",
              "\n",
              "<svg xmlns=\"http://www.w3.org/2000/svg\" height=\"24px\"viewBox=\"0 0 24 24\"\n",
              "     width=\"24px\">\n",
              "    <g>\n",
              "        <path d=\"M19 3H5c-1.1 0-2 .9-2 2v14c0 1.1.9 2 2 2h14c1.1 0 2-.9 2-2V5c0-1.1-.9-2-2-2zM9 17H7v-7h2v7zm4 0h-2V7h2v10zm4 0h-2v-4h2v4z\"/>\n",
              "    </g>\n",
              "</svg>\n",
              "  </button>\n",
              "\n",
              "<style>\n",
              "  .colab-df-quickchart {\n",
              "      --bg-color: #E8F0FE;\n",
              "      --fill-color: #1967D2;\n",
              "      --hover-bg-color: #E2EBFA;\n",
              "      --hover-fill-color: #174EA6;\n",
              "      --disabled-fill-color: #AAA;\n",
              "      --disabled-bg-color: #DDD;\n",
              "  }\n",
              "\n",
              "  [theme=dark] .colab-df-quickchart {\n",
              "      --bg-color: #3B4455;\n",
              "      --fill-color: #D2E3FC;\n",
              "      --hover-bg-color: #434B5C;\n",
              "      --hover-fill-color: #FFFFFF;\n",
              "      --disabled-bg-color: #3B4455;\n",
              "      --disabled-fill-color: #666;\n",
              "  }\n",
              "\n",
              "  .colab-df-quickchart {\n",
              "    background-color: var(--bg-color);\n",
              "    border: none;\n",
              "    border-radius: 50%;\n",
              "    cursor: pointer;\n",
              "    display: none;\n",
              "    fill: var(--fill-color);\n",
              "    height: 32px;\n",
              "    padding: 0;\n",
              "    width: 32px;\n",
              "  }\n",
              "\n",
              "  .colab-df-quickchart:hover {\n",
              "    background-color: var(--hover-bg-color);\n",
              "    box-shadow: 0 1px 2px rgba(60, 64, 67, 0.3), 0 1px 3px 1px rgba(60, 64, 67, 0.15);\n",
              "    fill: var(--button-hover-fill-color);\n",
              "  }\n",
              "\n",
              "  .colab-df-quickchart-complete:disabled,\n",
              "  .colab-df-quickchart-complete:disabled:hover {\n",
              "    background-color: var(--disabled-bg-color);\n",
              "    fill: var(--disabled-fill-color);\n",
              "    box-shadow: none;\n",
              "  }\n",
              "\n",
              "  .colab-df-spinner {\n",
              "    border: 2px solid var(--fill-color);\n",
              "    border-color: transparent;\n",
              "    border-bottom-color: var(--fill-color);\n",
              "    animation:\n",
              "      spin 1s steps(1) infinite;\n",
              "  }\n",
              "\n",
              "  @keyframes spin {\n",
              "    0% {\n",
              "      border-color: transparent;\n",
              "      border-bottom-color: var(--fill-color);\n",
              "      border-left-color: var(--fill-color);\n",
              "    }\n",
              "    20% {\n",
              "      border-color: transparent;\n",
              "      border-left-color: var(--fill-color);\n",
              "      border-top-color: var(--fill-color);\n",
              "    }\n",
              "    30% {\n",
              "      border-color: transparent;\n",
              "      border-left-color: var(--fill-color);\n",
              "      border-top-color: var(--fill-color);\n",
              "      border-right-color: var(--fill-color);\n",
              "    }\n",
              "    40% {\n",
              "      border-color: transparent;\n",
              "      border-right-color: var(--fill-color);\n",
              "      border-top-color: var(--fill-color);\n",
              "    }\n",
              "    60% {\n",
              "      border-color: transparent;\n",
              "      border-right-color: var(--fill-color);\n",
              "    }\n",
              "    80% {\n",
              "      border-color: transparent;\n",
              "      border-right-color: var(--fill-color);\n",
              "      border-bottom-color: var(--fill-color);\n",
              "    }\n",
              "    90% {\n",
              "      border-color: transparent;\n",
              "      border-bottom-color: var(--fill-color);\n",
              "    }\n",
              "  }\n",
              "</style>\n",
              "\n",
              "  <script>\n",
              "    async function quickchart(key) {\n",
              "      const quickchartButtonEl =\n",
              "        document.querySelector('#' + key + ' button');\n",
              "      quickchartButtonEl.disabled = true;  // To prevent multiple clicks.\n",
              "      quickchartButtonEl.classList.add('colab-df-spinner');\n",
              "      try {\n",
              "        const charts = await google.colab.kernel.invokeFunction(\n",
              "            'suggestCharts', [key], {});\n",
              "      } catch (error) {\n",
              "        console.error('Error during call to suggestCharts:', error);\n",
              "      }\n",
              "      quickchartButtonEl.classList.remove('colab-df-spinner');\n",
              "      quickchartButtonEl.classList.add('colab-df-quickchart-complete');\n",
              "    }\n",
              "    (() => {\n",
              "      let quickchartButtonEl =\n",
              "        document.querySelector('#df-0a17abb9-b585-4d7b-afc9-85c622820e11 button');\n",
              "      quickchartButtonEl.style.display =\n",
              "        google.colab.kernel.accessAllowed ? 'block' : 'none';\n",
              "    })();\n",
              "  </script>\n",
              "</div>\n",
              "\n",
              "    </div>\n",
              "  </div>\n"
            ],
            "application/vnd.google.colaboratory.intrinsic+json": {
              "type": "dataframe",
              "summary": "{\n  \"name\": \"merged_data\",\n  \"rows\": 5,\n  \"fields\": [\n    {\n      \"column\": \"main_category\",\n      \"properties\": {\n        \"dtype\": \"category\",\n        \"num_unique_values\": 1,\n        \"samples\": [\n          \"home\"\n        ],\n        \"semantic_type\": \"\",\n        \"description\": \"\"\n      }\n    },\n    {\n      \"column\": \"description\",\n      \"properties\": {\n        \"dtype\": \"string\",\n        \"num_unique_values\": 5,\n        \"samples\": [\n          \"planting instruction sowing seed immersed cold water first remove impurity potassium permanganate solution disinfection soaking two minute disinfection warm water soaking hour rinse upper shell shriveled seed remove remaining filled seed broadcastspread evenly deal good sand bed pressed covered clean sand thickness cm see seed finally permeable spray watering five day seedbed covering film spray water every afternoon seven day starting emergence day time basically emergence temperature exceed degree degree emergence temperature high promptly window open ventilation shading day shoot seed coat cotyledon expansion gradually hardening hardening time day long shoot grow lateral appropriate application making bonsai courtyard garden living room balcony etc\"\n        ],\n        \"semantic_type\": \"\",\n        \"description\": \"\"\n      }\n    }\n  ]\n}"
            }
          },
          "metadata": {},
          "execution_count": 44
        }
      ],
      "source": [
        "merged_data.tail()"
      ]
    },
    {
      "cell_type": "code",
      "execution_count": null,
      "metadata": {
        "id": "3gM_sPP-pLxF"
      },
      "outputs": [],
      "source": [
        "import os"
      ]
    },
    {
      "cell_type": "code",
      "source": [
        "merged_data = merged_data.reset_index(drop=True)"
      ],
      "metadata": {
        "id": "OkovpSpeFXV1"
      },
      "execution_count": null,
      "outputs": []
    },
    {
      "cell_type": "code",
      "execution_count": null,
      "metadata": {
        "id": "wsQ5bujDWmmF",
        "colab": {
          "base_uri": "https://localhost:8080/",
          "height": 147
        },
        "outputId": "0bccf71e-eb6e-4a1a-ad7f-ffa20b78265a"
      },
      "outputs": [
        {
          "output_type": "execute_result",
          "data": {
            "text/plain": [
              "main_category    0\n",
              "description      0\n",
              "dtype: int64"
            ],
            "text/html": [
              "<div>\n",
              "<style scoped>\n",
              "    .dataframe tbody tr th:only-of-type {\n",
              "        vertical-align: middle;\n",
              "    }\n",
              "\n",
              "    .dataframe tbody tr th {\n",
              "        vertical-align: top;\n",
              "    }\n",
              "\n",
              "    .dataframe thead th {\n",
              "        text-align: right;\n",
              "    }\n",
              "</style>\n",
              "<table border=\"1\" class=\"dataframe\">\n",
              "  <thead>\n",
              "    <tr style=\"text-align: right;\">\n",
              "      <th></th>\n",
              "      <th>0</th>\n",
              "    </tr>\n",
              "  </thead>\n",
              "  <tbody>\n",
              "    <tr>\n",
              "      <th>main_category</th>\n",
              "      <td>0</td>\n",
              "    </tr>\n",
              "    <tr>\n",
              "      <th>description</th>\n",
              "      <td>0</td>\n",
              "    </tr>\n",
              "  </tbody>\n",
              "</table>\n",
              "</div><br><label><b>dtype:</b> int64</label>"
            ]
          },
          "metadata": {},
          "execution_count": 47
        }
      ],
      "source": [
        "merged_data.isnull().sum()"
      ]
    },
    {
      "cell_type": "code",
      "execution_count": null,
      "metadata": {
        "id": "B9aYXbiLu6DH"
      },
      "outputs": [],
      "source": [
        "# List of noisy words to remove\n",
        "noisy_words = {'x', 'inch','mm', 'one', 'use', 'product','new', 'like', 'help', 'would', 'make', 'size', 'first',\n",
        "               'made', 'work', 'year', 'time', 'water', 'color', 'natural', 'design'}\n",
        "\n",
        "unwanted_chars = ['Ã¢',]\n",
        "# Function to remove noisy words from text\n",
        "def remove_noisy_words(text, noisy_words):\n",
        "    # Remove specific words using regex\n",
        "    pattern = r'\\b(?:' + '|'.join(map(re.escape, noisy_words)) + r')\\b'\n",
        "    cleaned_text = re.sub(pattern, '', text, flags=re.IGNORECASE)\n",
        "    for char in unwanted_chars:\n",
        "        cleaned_text = cleaned_text.replace(char, '')\n",
        "    # Remove extra spaces\n",
        "    return re.sub(r'\\s+', ' ', cleaned_text).strip()\n",
        "\n",
        "# Apply the function to the 'description' column\n",
        "merged_data['description'] = merged_data['description'].apply(lambda x: remove_noisy_words(str(x), noisy_words))"
      ]
    },
    {
      "cell_type": "markdown",
      "source": [
        "Guys we already have the clean_text why do we need this  preprocess_text(text) func? let's remove the repetition"
      ],
      "metadata": {
        "id": "YnX7dCF0kwsZ"
      }
    },
    {
      "cell_type": "code",
      "source": [
        "def preprocess_text(text):\n",
        "    stop_words = set(stopwords.words('english'))\n",
        "    text = re.sub(r'[^\\w\\s]', '', text)  # Remove punctuation\n",
        "    text = re.sub(r'\\d+', '', text)  # Remove numbers\n",
        "    words = text.lower().split()  # Convert to lowercase and split into words\n",
        "    return [word for word in words if word not in stop_words]  # Remove stopwords"
      ],
      "metadata": {
        "id": "1D90rIxQt7bv"
      },
      "execution_count": null,
      "outputs": []
    },
    {
      "cell_type": "code",
      "execution_count": null,
      "metadata": {
        "id": "0xjYUQVrpxKP",
        "colab": {
          "base_uri": "https://localhost:8080/"
        },
        "outputId": "8638bd2c-0ae4-4c79-fc39-c3743c97a2b0"
      },
      "outputs": [
        {
          "output_type": "stream",
          "name": "stdout",
          "text": [
            "Category: beauty\n",
            "Seed Words: ['hair', 'skin', 'nail', 'oil', 'brush', 'dry', 'body', 'wig', 'apply', 'easy', 'material', 'look', 'clean', 'soft', 'eye']\n",
            "\n",
            "Category: books\n",
            "Seed Words: ['book', 'author', 'life', 'review', 'story', 'world', 'university', 'read', 'also', 'back', 'way', 'u', 'many', 'well', 'two']\n",
            "\n",
            "Category: electronics\n",
            "Seed Words: ['camera', 'usb', 'power', 'case', 'cable', 'feature', 'battery', 'compatible', 'video', 'device', 'screen', 'lens', 'system', 'support', 'card']\n",
            "\n",
            "Category: grocery\n",
            "Seed Words: ['flavor', 'tea', 'chocolate', 'taste', 'delicious', 'coffee', 'ingredient', 'organic', 'candy', 'snack', 'sweet', 'food', 'sugar', 'free', 'oz']\n",
            "\n",
            "Category: home\n",
            "Seed Words: ['plant', 'garden', 'flag', 'outdoor', 'material', 'easy', 'feature', 'home', 'seed', 'steel', 'flower', 'light', 'durable', 'cover', 'also']\n",
            "\n"
          ]
        }
      ],
      "source": [
        "categories = merged_data['main_category'].unique()\n",
        "seed_words = {}\n",
        "\n",
        "for category in categories:\n",
        "    descriptions = ' '.join(merged_data[merged_data['main_category'] == category]['description'])\n",
        "    words = preprocess_text(descriptions)\n",
        "    word_counts = Counter(words)\n",
        "    seed_words[category] = [word for word, _ in word_counts.most_common(15)]  # Top 5 words\n",
        "\n",
        "for category, words in seed_words.items():\n",
        "    print(f\"Category: {category}\")\n",
        "    print(f\"Seed Words: {words}\")\n",
        "    print()"
      ]
    },
    {
      "cell_type": "code",
      "execution_count": null,
      "metadata": {
        "id": "pdDOLx0GdQVa"
      },
      "outputs": [],
      "source": [
        "+merged_data = merged_data.reset_index(drop=True)"
      ]
    },
    {
      "cell_type": "code",
      "execution_count": null,
      "metadata": {
        "id": "XHkhufuLpJr9"
      },
      "outputs": [],
      "source": [
        "# X = data.drop('main_category', axis=1)\n",
        "# y = data['main_category']\n",
        "\n",
        "# Perform stratified train-test split\n",
        "X_train, X_test= train_test_split(\n",
        "    merged_data,\n",
        "    test_size=0.2,  # Adjust the split ratio as needed\n",
        "    stratify=merged_data['main_category'],  # Ensure balanced categories\n",
        "    random_state=42  # For reproducibility\n",
        ")"
      ]
    },
    {
      "cell_type": "code",
      "execution_count": null,
      "metadata": {
        "id": "pEe3hI9PgDJ5"
      },
      "outputs": [],
      "source": [
        "base_dir = 'dataset'\n",
        "train_dir = os.path.join(base_dir, 'train')\n",
        "test_dir = os.path.join(base_dir, 'test')\n",
        "\n",
        "# Create directories if they don't exist\n",
        "os.makedirs(train_dir, exist_ok=True)\n",
        "os.makedirs(test_dir, exist_ok=True)\n",
        "\n",
        "# Save the train and test sets\n",
        "X_train.to_csv(os.path.join(train_dir, 'X_train.csv'), index=False)\n",
        "\n",
        "X_test.to_csv(os.path.join(test_dir, 'X_test.csv'), index=False)\n"
      ]
    },
    {
      "cell_type": "code",
      "execution_count": null,
      "metadata": {
        "id": "uS9vtfnOZp1w"
      },
      "outputs": [],
      "source": [
        "merged_data.to_csv(\"merged_cleaned_data.csv\", index=False)"
      ]
    },
    {
      "cell_type": "code",
      "execution_count": null,
      "metadata": {
        "id": "0a70bqeNgLod"
      },
      "outputs": [],
      "source": []
    }
  ],
  "metadata": {
    "colab": {
      "provenance": []
    },
    "kernelspec": {
      "display_name": "Python 3",
      "name": "python3"
    },
    "language_info": {
      "name": "python"
    }
  },
  "nbformat": 4,
  "nbformat_minor": 0
}